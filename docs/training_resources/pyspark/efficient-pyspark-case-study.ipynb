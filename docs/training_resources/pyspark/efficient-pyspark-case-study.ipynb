{
 "cells": [
  {
   "cell_type": "markdown",
   "source": [
    "# Efficient Pyspark Case Study\n",
    "\n",
    "## TLDR\n",
    "\n",
    "- PandasUDF was fastest, though the non-JOIN options all did similarly well\n",
    "- the JOIN BETWEEN took ~ 1000 times longer! (equi-JOIN was ten times faster than this)\n",
    "- computing 30 columns didn't take much longer than 1 column for non-JOIN options\n",
    "- [![Open In Colab](https://colab.research.google.com/assets/colab-badge.svg)](https://colab.research.google.com/github/NHSDigital/rap-community-of-practice/blob/main/docs/training_resources/pyspark/efficient-pyspark-case-study.ipynb \"Open the code in Google Colab\") and **play with the code straight away**\n",
    "\n",
    "## Introduction\n",
    "\n",
    "There are a load of different ways we can do row-wise analyses in Pyspark -\n",
    "lets see how a number of common approach compare.\n",
    "\n",
    "In this guide we will make 10,000,000 rows of fake data full of \"ages\", and\n",
    "then try following techniques on 1, 10 and 30 columns to see how long they\n",
    "take, and ultimately crown one, the champion.\n",
    "\n",
    "Consider also checking out our recommended **[Pyspark Style Guide][1]**.\n",
    "\n",
    "**Techniques**:\n",
    "\n",
    "- CASE WHEN\n",
    "- pandas UDF - pandas.cut\n",
    "- UDF - if then else\n",
    "- JOIN BETWEEN\n",
    "- equi-JOIN\n",
    "\n",
    "**Author**: NHS Digital Data Science Squad\n",
    "\n",
    "[1]: pyspark-style-guide.md"
   ],
   "metadata": {
    "application/vnd.databricks.v1+cell": {
     "showTitle": false,
     "cellMetadata": {},
     "nuid": "79638cc1-7078-4b6b-9a8b-011e01bb698f",
     "inputWidgets": {},
     "title": ""
    },
    "id": "b_-cpCNGVmSb"
   }
  },
  {
   "cell_type": "markdown",
   "source": [
    "## Setup\n",
    "\n",
    "### Spark Setup\n",
    "\n",
    "First a bit of code to make this work using PySpark in Google Colab. Basically\n",
    "it just installs PySpark and makes the spark session"
   ],
   "metadata": {
    "id": "F3Fre2VOhHe3"
   }
  },
  {
   "cell_type": "code",
   "source": [
    "try: # this is wrapped in a try except so that if it fails\n",
    "     # (i.e. it's not run in colab, such as in databricks) this will catch it.\n",
    "  import google.colab\n",
    "  IN_COLAB = True\n",
    "  %pip install pyspark # in Colab we need to install pyspark\n",
    "except:\n",
    "  IN_COLAB = False"
   ],
   "metadata": {
    "application/vnd.databricks.v1+cell": {
     "showTitle": false,
     "cellMetadata": {},
     "nuid": "c92fcaab-181a-48fc-95f7-7b57c7bbd8f9",
     "inputWidgets": {},
     "title": ""
    },
    "colab": {
     "base_uri": "https://localhost:8080/"
    },
    "id": "pBwqKs3xVmSf",
    "outputId": "fa19b1cb-5c9d-44ce-b730-57a2165a87bf",
    "pycharm": {
     "is_executing": true
    }
   },
   "outputs": [],
   "execution_count": null
  },
  {
   "cell_type": "code",
   "source": [
    "if IN_COLAB: # in colab we also need to make the Spark session\n",
    "             # (in Databricks this comes premade)\n",
    "    from pyspark.sql import SparkSession\n",
    "\n",
    "    spark = (SparkSession\n",
    "    .builder\n",
    "    .master(\"local\")\n",
    "    .appName(\"Colab\")\n",
    "    .config('spark.ui.port', '4050')\n",
    "    .getOrCreate()\n",
    "    )"
   ],
   "metadata": {
    "id": "FJhw6I8yV2gE"
   },
   "execution_count": 2,
   "outputs": []
  },
  {
   "cell_type": "markdown",
   "source": [
    "### Import Modules\n",
    "\n",
    "We need to import all the functions etc. that we will use"
   ],
   "metadata": {
    "id": "M2YRpYeSg651"
   }
  },
  {
   "cell_type": "code",
   "source": [
    "import pandas as pd\n",
    "import numpy as np\n",
    "from pyspark.sql.functions import (pandas_udf, PandasUDFType, lit,\n",
    "                                   col, when,array, split, explode,\n",
    "                                   isnull, udf)"
   ],
   "metadata": {
    "id": "vLNFzKYJg9jV"
   },
   "execution_count": 3,
   "outputs": []
  },
  {
   "cell_type": "markdown",
   "source": [
    "### Get Data\n",
    "\n",
    "First we need 10,000,000 rows of data to test the functions on. You can find a\n",
    "function and code snippet to generate this below.\n",
    "\n",
    "The reason why this is a quite complicated, is that to get the truest performance we\n",
    "need a table, on the disk (not some data held in memory), hence the code below\n",
    "has a lot of extra bits to make sure it writes to the disk. To allow us to write\n",
    "large tables, it does it in batches (this means we could make a table of any size\n",
    "and really heavily test these approaches."
   ],
   "metadata": {
    "id": "xqgyjm2zfTJA"
   }
  },
  {
   "cell_type": "code",
   "source": [
    "import pandas as pd\n",
    "\n",
    "def make_random_dataset(database='default', number_of_feature_cols = 30,\n",
    "                        number_of_rows = 10000000, batch_size = 1000000,\n",
    "                        column_name_root = 'AGE', table_name = 'random_dataset'):\n",
    "    \"\"\"Make a dataset (in a table) with random values between 0 and 120 with\n",
    "    the specified number_of_rows and feature columns and a patient_id field.\n",
    "  \n",
    "    Returns a pyspark dataframe of the dataset (and there will also be a hard\n",
    "    table of the dataset made)\n",
    "\n",
    "    Parameters\n",
    "    ----------\n",
    "    database : str\n",
    "    number_of_feature_cols : int\n",
    "    number_of_rows : int\n",
    "    batch_size : int\n",
    "    column_name_root : str\n",
    "    table_name : str\n",
    "    Returns\n",
    "    -------\n",
    "    sdf_random_dataset : pyspark.DataFrame\n",
    "\n",
    "    Examples\n",
    "    --------\n",
    "    >>> sdf_random_dataset = make_random_dataset()\n",
    "    >>> sdf_random_dataset.count()\n",
    "    10000000\n",
    "    \"\"\"\n",
    "\n",
    "    # use a list comprehension to generate a list of \"Age column\" names\n",
    "    column_list = [f'{column_name_root}{x}'\n",
    "                   for x in range(0,number_of_feature_cols)]\n",
    "    # we do it in batches to avoid using too much memory, so this works out\n",
    "    # the batch size\n",
    "    number_of_batches = int(number_of_rows / batch_size)\n",
    "    # use the Numpy randint function to generate an array full of\n",
    "    # random integers\n",
    "    npa_random = np.random.randint(0,120,size=(batch_size,\n",
    "                                               number_of_feature_cols)\n",
    "                                   )\n",
    "    # make this into a pandas dataframe\n",
    "    df_random_dataset = (pd.DataFrame(npa_random, columns=column_list)\n",
    "                         .rename_axis(index='patient_id')\n",
    "                         .reset_index()\n",
    "                         )\n",
    "    # finally make this into a spark dataframe\n",
    "    sdf_random_dataset = spark.createDataFrame(df_random_dataset)\n",
    "    # now for each batch write the data into a table we defined\n",
    "    for batch in range(0, number_of_batches-1):\n",
    "        if batch == 0: \n",
    "            mode=\"overwrite\" # on the first loop we want it to overwrite\n",
    "                             # what is there\n",
    "        else: \n",
    "            mode=\"append\" # subsequent loops we want it to add each batch\n",
    "        (sdf_random_dataset\n",
    "        .write.mode(mode)\n",
    "        # the path line might need changing (or just removing) in databricks\n",
    "        .option(\"path\",f\"file:///content/spark-warehouse/{database}.{table_name}\")\n",
    "        .format(\"parquet\") # this is just a table file format\n",
    "        .saveAsTable(f\"{database}.{table_name}\")\n",
    "        )\n",
    "    # return the table as a dataframe so we can use it\n",
    "    return spark.table(f\"{database}.{table_name}\")"
   ],
   "metadata": {
    "application/vnd.databricks.v1+cell": {
     "showTitle": false,
     "cellMetadata": {},
     "nuid": "a43a49e9-d97a-42fd-ac3a-ef2436b307a0",
     "inputWidgets": {},
     "title": ""
    },
    "id": "gp4JcoMgVmSh"
   },
   "outputs": [],
   "execution_count": 4
  },
  {
   "cell_type": "markdown",
   "source": [
    "Drop the `default.random_dataset` table if it already exists and then make the table and get the dataframe of this table (`df_data`)"
   ],
   "metadata": {
    "id": "oGIlKKCKhWML"
   }
  },
  {
   "cell_type": "code",
   "source": [
    "spark.sql(\"drop table if exists default.random_dataset\");\n",
    "\n",
    "database = 'default'\n",
    "\n",
    "df_data = make_random_dataset(database=database, number_of_feature_cols = 30,\n",
    "                              number_of_rows = 10000000, \n",
    "                              batch_size = 1000000,\n",
    "                              column_name_root = 'AGE', table_name = 'random_dataset',\n",
    "                              )\n",
    "\n",
    "age_cols = df_data.drop('patient_id').columns"
   ],
   "metadata": {
    "application/vnd.databricks.v1+cell": {
     "showTitle": false,
     "cellMetadata": {},
     "nuid": "fa628c27-2f1e-49eb-8599-b37a91ce9db6",
     "inputWidgets": {},
     "title": ""
    },
    "id": "rU7dRDNVVmSj"
   },
   "outputs": [],
   "execution_count": 5
  },
  {
   "cell_type": "markdown",
   "source": [
    "## Define the methods\n",
    "\n",
    "### CASE WHEN\n",
    "\n",
    "[CASE WHEN][2] is perhaps the simplest approach, and most SQL practicioners\n",
    "will be familiar with this way of doing Agebands or other such tranformations.\n",
    "In this instance we actually use a blob of SQL to do the CASE WHEN statement!\n",
    "Here is some guidance on how to do this in both [Spark SQL][3] and [Pyspark][4].\n",
    "\n",
    "This should be pretty efficient, because pyspark can easily map this across the\n",
    "whole dataset. Conventionally, doing this for 30 columns in SQL would have a\n",
    "real pain, however we use python (sring formatting) to basically use this one\n",
    "set of SQL code for all 30 columns!\n",
    "\n",
    "[2]: https://spark.apache.org/docs/latest/sql-ref-syntax-qry-select-case.html\n",
    "[3]: https://spark.apache.org/docs/latest/sql-ref-syntax-qry-select-case.html\n",
    "[4]: https://spark.apache.org/docs/latest/api/python/reference/pyspark.sql/api/pyspark.sql.Column.when.html?highlight=case%20when"
   ],
   "metadata": {
    "application/vnd.databricks.v1+cell": {
     "showTitle": false,
     "cellMetadata": {},
     "nuid": "e2f7e981-5686-4f99-b242-470e1b0cf13c",
     "inputWidgets": {},
     "title": ""
    },
    "id": "D6HXNh7yVmSj"
   }
  },
  {
   "cell_type": "code",
   "source": [
    "# SQL CASE WHEN is pretty basic -\n",
    "# CASE WHEN <condition> THEN <result> WHEN <...> THEN <...> etc.\n",
    "# ELSE <result if all else fails>\n",
    "sql_ageband_casewhen_string = '''CASE WHEN {0} >= 0 and {0} <=18 THEN '0-18'\n",
    "  WHEN {0} >= 19 and {0} <=30 THEN '19-30'\n",
    "  WHEN {0} >= 31 and {0} <=39 THEN '31-39'\n",
    "  WHEN {0} >= 40 and {0} <=49 THEN '40-49'\n",
    "  WHEN {0} >= 50 and {0} <=59 THEN '50-59'\n",
    "  WHEN {0} >= 60 and {0} <=69 THEN '60-69'\n",
    "  WHEN {0} >= 70 and {0} <=79 THEN '70-79'\n",
    "  WHEN {0} >= 80 and {0} <=89 THEN '80-89'\n",
    "  WHEN {0} >= 90 and {0} <=150 THEN '90+' END as {0}_band'''\n",
    "\n",
    "# At the end we want to run the above SQL script against all the age columns\n",
    "# and against all values in those columns. We use a \"selectExpr\" that allow us\n",
    "# submit SQL to the spark dataframe `df_data`\n",
    "def selectExpr_sql_ageband_casewhen(df_data=df_data, age_cols=age_cols):\n",
    "    # first we need to get a copy of the casewhen statement for each age column\n",
    "    case_when_sql_for_each_column = [sql_ageband_casewhen_string.format(col)\n",
    "                                     for col in age_cols]\n",
    "    # then use selectExpr to apply it to the dataframe\n",
    "    return df_data.selectExpr(\"*\", *case_when_sql_for_each_column)\n",
    "\n",
    "# We also wanted to see if doing this using pure SQL had an effect\n",
    "# so the below is the same as the above, but rather than using \"selectExpr\"\n",
    "# it just makes a SQL query and executes that against the table (which\n",
    "# df_data also points to.\n",
    "def spark_sql_ageband_casewhen(df_data=df_data, age_cols=age_cols):\n",
    "    case_when_sql_for_each_column = [sql_ageband_casewhen_string.format(col)\n",
    "                                     for col in age_cols]\n",
    "    return spark.sql(\"SELECT \"\n",
    "                     +\",\".join(['*']+case_when_sql_for_each_column)\n",
    "                     +f\" FROM default.random_dataset\"\n",
    "                     )"
   ],
   "metadata": {
    "application/vnd.databricks.v1+cell": {
     "showTitle": false,
     "cellMetadata": {},
     "nuid": "a1300ae6-fb24-414c-8d0f-1f0dfdf1716d",
     "inputWidgets": {},
     "title": ""
    },
    "id": "Lbb5ysedVmSk"
   },
   "outputs": [],
   "execution_count": 6
  },
  {
   "cell_type": "markdown",
   "source": [
    "### UDF\n",
    "\n",
    "[\"User Defined Functions\" (UDFs)][5] are a way of taking a normal Python\n",
    "function, and mapping it across the rows in the Pyspark dataframe.\n",
    "This shouldn't be the fastest because the programme needs to convert the python\n",
    "code into the underlying language that spark uses.\n",
    "\n",
    "In this instance, our Python code uses \"if..else\" logic, so not unlike CASE\n",
    "WHEN.\n",
    "\n",
    "You can see guidance on UDFs [here][6].\n",
    "\n",
    "[5]: https://spark.apache.org/docs/latest/api/python/reference/pyspark.sql/api/pyspark.sql.functions.udf.html#pyspark.sql.functions.udf\n",
    "[6]: https://spark.apache.org/docs/latest/api/python/reference/pyspark.sql/api/pyspark.sql.functions.udf.html#pyspark.sql.functions.udf"
   ],
   "metadata": {
    "id": "F8sDcTgthlGW"
   }
  },
  {
   "cell_type": "code",
   "source": [
    "# made the python function for age band\n",
    "# simply takes and integer and age and outputs\n",
    "# the corresponding age band\n",
    "def ageband_func(age: int) -> str:\n",
    "  if 0 <= age <= 18: return '0-18'\n",
    "  elif 19 <= age <= 30: return '19-30'\n",
    "  elif 31 <= age <= 39: return '31-39'\n",
    "  elif 40 <= age <= 49: return '40-49'\n",
    "  elif 50 <= age <= 59: return '50-59'\n",
    "  elif 60 <= age <= 69: return '60-69'\n",
    "  elif 70 <= age <= 79: return '70-79'\n",
    "  elif 80 <= age <= 89: return '80-89'\n",
    "  elif 90 <= age <= 150: return '90+'\n",
    "  elif age is None: return None\n",
    "\n",
    "# we then need to convert into a UDF so pyspark can use it\n",
    "ageband_udf = udf(ageband_func)\n",
    "\n",
    "# now we will make a little wrapper function which will\n",
    "# apply this UDF to all the ageband columns in df_data\n",
    "def udf_ageband(df_data=df_data, age_cols=age_cols):\n",
    "  return df_data.select(\"*\",\n",
    "                        *[ageband_udf(col).alias(f\"{col}_band\")\n",
    "                          for col in age_cols]\n",
    "                        )"
   ],
   "metadata": {
    "application/vnd.databricks.v1+cell": {
     "showTitle": false,
     "cellMetadata": {},
     "nuid": "1fa6105e-04b4-490a-854f-a80301aaeaaa",
     "inputWidgets": {},
     "title": ""
    },
    "id": "owtKncG7VmSl"
   },
   "outputs": [],
   "execution_count": 7
  },
  {
   "cell_type": "markdown",
   "source": [
    "### Pandas UDF\n",
    "\n",
    "The [\"Pandas User Defined Function\" (PandasUDF)][7] is somewhat like a UDF,\n",
    "except it uses Apache arrow to transfer data and Pandas to actually work with\n",
    "the data which allows vectorised operations, speeding things up. (Pandas uses\n",
    "Numpy, which is veeeery efficient).\n",
    "\n",
    "In this instance, our PandasUDF is using the [`pandas.cut`][8]\n",
    "function to split the data into buckets for each age.\n",
    "\n",
    "This could be amongst the fastest approaches, but it also a bit fiddly to set\n",
    "up and understand (though not so bad once you understand it!)\n",
    "\n",
    "You can see more guidance on using the new Spark 3.0 PandasUDFs [here][9] or an\n",
    "older blog on PandasUDFs [here][10].\n",
    "\n",
    "[7]: https://spark.apache.org/docs/3.1.2/api/python/reference/api/pyspark.sql.functions.pandas_udf.html\n",
    "[8]: https://pandas.pydata.org/pandas-docs/stable/reference/api/pandas.cut.html\n",
    "[9]: https://www.databricks.com/blog/2020/05/20/new-pandas-udfs-and-python-type-hints-in-the-upcoming-release-of-apache-spark-3-0.html\n",
    "[10]: https://www.databricks.com/blog/2017/10/30/introducing-vectorized-udfs-for-pyspark.html"
   ],
   "metadata": {
    "id": "o7ltVoC7h3UR"
   }
  },
  {
   "cell_type": "code",
   "source": [
    "# the syntax of pandas UDF is a little more complicated than UDF\n",
    "# first we need this decorator (@...) which tells spark\n",
    "# what to expect from the function, in this case a string\n",
    "# output and it takes scalar values\n",
    "@pandas_udf('string', PandasUDFType.SCALAR)\n",
    "def ageband_cut(age_series : pd.Series(str)) -> pd.Series:\n",
    "  # internally it is very simple, just the pandas \"cut\" function\n",
    "  # which assigns pandas series elements to buckets (labels)\n",
    "  return pd.cut(age_series,[0, 19, 31, 40, 50, 60, 70, 80, 90, 1000],\n",
    "                labels=['0-18','19-30', '31-39', '40-49', '50-59',\n",
    "                        '60-69', '70-79', '80-89', '90+'],\n",
    "                retbins=False, right=False)\n",
    "\n",
    "# as in the UDF, we now just need a little wrapper function\n",
    "# to apply the pandas UDF to all of the age columns in df_data\n",
    "def pandas_udf_cut_ageband(df_data=df_data, age_cols=age_cols):\n",
    "  return df_data.select(\"*\",\n",
    "                        *[ageband_cut(col).alias(f\"{col}_band\")\n",
    "                          for col in age_cols]\n",
    "                        )"
   ],
   "metadata": {
    "application/vnd.databricks.v1+cell": {
     "showTitle": false,
     "cellMetadata": {},
     "nuid": "adb34095-eb1a-42b6-862b-6e416685a570",
     "inputWidgets": {},
     "title": ""
    },
    "colab": {
     "base_uri": "https://localhost:8080/"
    },
    "id": "nA1R3f-IVmSl",
    "outputId": "91bdad2e-8943-4f1f-cb3a-6676de4b1121",
    "pycharm": {
     "is_executing": true
    }
   },
   "outputs": [],
   "execution_count": null
  },
  {
   "cell_type": "markdown",
   "source": [
    "### JOIN - BETWEEN\n",
    "\n",
    "Making a table of ageband reference data and then JOINing this on perhaps the\n",
    "go-to way that data managers might approach this problem.\n",
    "\n",
    "However, in Pyspark, JOINs are a \"wide\" operation, which are generally not as\n",
    "efficient as \"long\" operations (such as CASE WHEN / UDF / Pandas UDF).\n",
    "\n",
    "First we need to make the `agegroup_lookup` reference data table, which has an\n",
    "`upper_age`, `lower_age` and corresponding `age_group`."
   ],
   "metadata": {
    "id": "VoIELx6Nh5tX"
   }
  },
  {
   "cell_type": "code",
   "source": [
    "# first we make a agegroup lookup dataframe\n",
    "agegroup_lookup = pd.DataFrame([\n",
    "    dict(lower_age = 0, upper_age=18, age_group='0-18'),\n",
    "    dict(lower_age = 19, upper_age=30, age_group='19-30'),\n",
    "    dict(lower_age = 31, upper_age=39, age_group='31-39'),\n",
    "    dict(lower_age = 40, upper_age=49, age_group='40-49'),\n",
    "    dict(lower_age = 50, upper_age=59, age_group='50-59'),\n",
    "    dict(lower_age = 60, upper_age=69, age_group='60-69'),\n",
    "    dict(lower_age = 70, upper_age=79, age_group='70-79'),\n",
    "    dict(lower_age = 80, upper_age=89, age_group='80-89'),\n",
    "    dict(lower_age = 90, upper_age=150, age_group='90+')\n",
    "])\n",
    "\n",
    "# then we make it a spark dataframe and save it to a table for\n",
    "# good measure (this was incase we wanted to do SQL against it\n",
    "sdf_agegroup_lookup = spark.createDataFrame(agegroup_lookup)\n",
    "sdf_agegroup_lookup.createOrReplaceGlobalTempView('agegroup_lookup')"
   ],
   "metadata": {
    "application/vnd.databricks.v1+cell": {
     "showTitle": false,
     "cellMetadata": {},
     "nuid": "71c32c2e-47d2-4c55-9b07-127bcb3cfba8",
     "inputWidgets": {},
     "title": ""
    },
    "id": "ld5l4lb_VmSl"
   },
   "outputs": [],
   "execution_count": 9
  },
  {
   "cell_type": "markdown",
   "source": [
    "There are a few ways we can approach JOINs. The most obvious way is to simply\n",
    "use BETWEEN to check for each record, if the age is between the upper and lower\n",
    "ages described in the lookup and then return the agegroup.\n",
    "\n",
    "This probably won't be very efficient, because \"non-equi-JOINs\" (i.e. JOINs\n",
    "without an \"=\" within the ON statement) do an implicit CROSS JOIN and so aren't\n",
    "very efficient."
   ],
   "metadata": {
    "id": "aWzjZUeWiZlJ"
   }
  },
  {
   "cell_type": "code",
   "source": [
    "def chain_join_between_ageband(df_data=df_data, age_cols=age_cols):\n",
    "  df_data_ageband_join = df_data\n",
    "  # this code (probably not an example of best practice!) loops\n",
    "  # over each of the columns and then JOINs on the lookup to\n",
    "  # work out the ageband\n",
    "  for col in age_cols:\n",
    "    df_data_ageband_join = (df_data_ageband_join\n",
    "        .join(sdf_agegroup_lookup,\n",
    "              # this is the BETWEEN bit\n",
    "              (df_data[col] >= sdf_agegroup_lookup['lower_age'])\n",
    "              & (df_data[col] <= sdf_agegroup_lookup['upper_age']),\n",
    "              how='left'\n",
    "              )\n",
    "        .withColumnRenamed('age_group',f\"{col}_band\")\n",
    "        # we only care about the ageband, so drop the rest of the\n",
    "        # lookup columns\n",
    "        .drop('lower_age', 'upper_age')\n",
    "        )\n",
    "  return df_data_ageband_join"
   ],
   "metadata": {
    "application/vnd.databricks.v1+cell": {
     "showTitle": false,
     "cellMetadata": {},
     "nuid": "5a09a3c0-a0e3-4796-9693-82bcce943ff0",
     "inputWidgets": {},
     "title": ""
    },
    "id": "aUd9aVyNVmSm"
   },
   "outputs": [],
   "execution_count": 10
  },
  {
   "cell_type": "markdown",
   "source": [
    "### equi-JOIN"
   ],
   "metadata": {
    "id": "4yb4Pf9kiEzu"
   }
  },
  {
   "cell_type": "markdown",
   "source": [
    "The less obvious way to do JOINs is to un-pivot the reference data, so that it\n",
    "is very long (i.e. age 11 means ageband 10-20), then we can join using an \"=\"\n",
    "in the ON statement (called an equi-JOIN). This should be a lot more efficient\n",
    "than the non-equi-JOIN."
   ],
   "metadata": {
    "id": "UJ-PIXvJibAD"
   }
  },
  {
   "cell_type": "code",
   "source": [
    "# first we make a little function to work out the ages that compose each\n",
    "# age band, as a list\n",
    "ageband_ages_list = lambda x: list(range(x['lower_age'],x['upper_age']+1))\n",
    "# now we apply this to the agegroup dataframe to make a new column\n",
    "# containing a list of ages for each agegroup\n",
    "agegroup_lookup['age'] = agegroup_lookup.apply(ageband_ages_list,axis=1)\n",
    "# now we \"explode\" this age column, which means that a new row is made for\n",
    "# each element in the lists in the age column - this makes the lookup longer\n",
    "# as we end up with one row for each age, and the corresponding ageband\n",
    "agegroup_lookup_explode = agegroup_lookup.set_index('age_group').explode('age')['age']\n",
    "# make into a spark dataframe and a global temp view\n",
    "sdf_agegroup_lookup_long = spark.createDataFrame(agegroup_lookup_explode.reset_index())\n",
    "sdf_agegroup_lookup_long.createOrReplaceGlobalTempView('agegroup_lookup_long')\n",
    "\n",
    "# we then apply it pretty much the same as the BETWEEN\n",
    "def chain_join_long_ageband(df_data=df_data, age_cols=age_cols):\n",
    "  df_data_ageband_join = df_data\n",
    "  for col in age_cols:\n",
    "    # this code (probably not an example of best practice!) loops\n",
    "    # over each of the columns and then JOINs on the lookup to\n",
    "    # work out the ageband\n",
    "    df_data_ageband_join = (df_data_ageband_join\n",
    "                            .join(sdf_agegroup_lookup_long,\n",
    "                                  # this is the \"equal\" bit - no need for BETWEEN\n",
    "                                  df_data[col]==sdf_agegroup_lookup_long['age'],\n",
    "                                  how='left')\n",
    "                            .withColumnRenamed('age_group',f\"{col}_band\")\n",
    "                            # we only care about the ageband,\n",
    "                            # so drop the age lookup column\n",
    "                            .drop('age')\n",
    "                            )\n",
    "  return df_data_ageband_join"
   ],
   "metadata": {
    "application/vnd.databricks.v1+cell": {
     "showTitle": false,
     "cellMetadata": {},
     "nuid": "fee0e239-614b-411f-9537-24f534302653",
     "inputWidgets": {},
     "title": ""
    },
    "id": "Or_i-OD9VmSm"
   },
   "outputs": [],
   "execution_count": 11
  },
  {
   "cell_type": "markdown",
   "source": [
    "### Timing functions\n",
    "\n",
    "Now we have a bit of code to compare how quickly the different approaches ran.\n",
    "\n",
    "The functions made above all output the original dataframe with these new\n",
    "ageband columns on the end, so when force them to output results, the spark\n",
    "will start flowing data and we can see how long it takes.\n",
    "\n",
    "The functions below runs the different approaches (just doing a count on the\n",
    "dataframe) a specified number of times and takes the average of the time it\n",
    "took for each run."
   ],
   "metadata": {
    "application/vnd.databricks.v1+cell": {
     "showTitle": false,
     "cellMetadata": {},
     "nuid": "eff4ff97-97b0-49bd-b7c4-e4f1a7275745",
     "inputWidgets": {},
     "title": ""
    },
    "id": "cUrBxV2cVmSn"
   }
  },
  {
   "cell_type": "code",
   "source": [
    "def time_function(func, *args):\n",
    "    \"\"\"start timing, run the function, when its done,\n",
    "    stop the time and work out the difference\n",
    "    between start and end time\"\"\"\n",
    "    import time \n",
    "    t1 = time.time()\n",
    "    result = func(*args)\n",
    "    t2 = time.time()\n",
    "    total_time = t2-t1\n",
    "    return total_time, result"
   ],
   "metadata": {
    "application/vnd.databricks.v1+cell": {
     "showTitle": false,
     "cellMetadata": {},
     "nuid": "8984533b-f15b-462f-b077-4e74f54132ae",
     "inputWidgets": {},
     "title": ""
    },
    "id": "t8qLk2IcVmSn"
   },
   "outputs": [],
   "execution_count": 12
  },
  {
   "cell_type": "code",
   "source": [
    "def avg_time_function(iters, func, *args):\n",
    "    \"\"\"Times it 'iters' times, and then\n",
    "    gets the average\"\"\"\n",
    "    total_time = 0\n",
    "    for _ in range(iters):\n",
    "        time, _ = time_function(func, *args)\n",
    "        total_time += time\n",
    "    return (total_time/iters)"
   ],
   "metadata": {
    "application/vnd.databricks.v1+cell": {
     "showTitle": false,
     "cellMetadata": {},
     "nuid": "69ded8aa-1a0e-415b-a858-65b64ead5443",
     "inputWidgets": {},
     "title": ""
    },
    "id": "YUiBRibAVmSn"
   },
   "outputs": [],
   "execution_count": 13
  },
  {
   "cell_type": "code",
   "source": [
    "def process_df(df):\n",
    "    \"\"\"This little function forces the spark\n",
    "    dataframe to run by doing 'count'\"\"\"\n",
    "    df_count = df.count()\n",
    "    return df, df_count"
   ],
   "metadata": {
    "application/vnd.databricks.v1+cell": {
     "showTitle": false,
     "cellMetadata": {},
     "nuid": "ed498bcf-ea2a-4e91-a30c-c245232f7652",
     "inputWidgets": {},
     "title": ""
    },
    "id": "wDFQM9j_VmSn"
   },
   "outputs": [],
   "execution_count": 14
  },
  {
   "cell_type": "code",
   "source": [
    "def print_avg(num_iterations, data_df=df_data, age_cols=age_cols):\n",
    "    num_rows = data_df.count()\n",
    "    # to cut down on code we made a dict of the common inputs\n",
    "    function_inputs = dict(df_data=data_df, age_cols=age_cols)\n",
    "    # a list of all of the approaches we want to try\n",
    "    methods_list = [selectExpr_sql_ageband_casewhen,\n",
    "                    spark_sql_ageband_casewhen,\n",
    "                    udf_ageband,\n",
    "                    pandas_udf_cut_ageband,\n",
    "                    chain_join_long_ageband,\n",
    "                    chain_join_between_ageband\n",
    "                    ]\n",
    "    results = []\n",
    "    # loop over the approaches:\n",
    "    for func in methods_list:\n",
    "        # get the name of the function so we can add it to the plot\n",
    "        name = str(func.__name__)\n",
    "        # put the inputs (df_data, and a list of age columns) into\n",
    "        # the function for the approach\n",
    "        df = func(**function_inputs)\n",
    "        # now we \"run\" the dataframe (using \"count\") 5 times\n",
    "        # to get the average time of each approach\n",
    "        average_run_time = avg_time_function(num_iterations, process_df, df)\n",
    "        print(\"average run_time for {name} with {num_rows} rows is {average_run_time}\"\n",
    "              .format(name=name,\n",
    "                      average_run_time=average_run_time,\n",
    "                      num_rows=num_rows\n",
    "                      )\n",
    "              )\n",
    "        # add the results dictionary for this run\n",
    "        # to the list of results\n",
    "        results.append(dict(name=name,\n",
    "                            num_cols=len(age_cols),\n",
    "                            num_rows=num_rows,\n",
    "                            average_run_time=average_run_time)\n",
    "                       )\n",
    "    # convert results (a list of dictionaries) to a dataframe\n",
    "    # and we are left with a table of results!\n",
    "    return pd.DataFrame(results)"
   ],
   "metadata": {
    "application/vnd.databricks.v1+cell": {
     "showTitle": false,
     "cellMetadata": {},
     "nuid": "eceb1e6e-9fc5-4715-b54a-9fd9361bdfbb",
     "inputWidgets": {},
     "title": ""
    },
    "id": "ZN8MCyUdVmSn"
   },
   "outputs": [],
   "execution_count": 15
  },
  {
   "cell_type": "markdown",
   "source": [
    "## Run everything\n",
    "\n",
    "Now we run the `print_avg` function over the three sets of amounts of age columns, i.e. 1, 10 and 30, and we will get our results!\n",
    "\n",
    "The code below is very compact, however it uses a list comprehension to and pd.concat to combine the results of the average run time, for each approach, for each amount of age columns into one table of results"
   ],
   "metadata": {
    "id": "9NzveRuXf_AL"
   }
  },
  {
   "cell_type": "code",
   "source": [
    "df_results = pd.concat([print_avg(5, age_cols=age_cols[:num_cols])\n",
    "                        for num_cols in [1,10,30]\n",
    "                        ],\n",
    "                       axis=0\n",
    "                       )"
   ],
   "metadata": {
    "application/vnd.databricks.v1+cell": {
     "showTitle": false,
     "cellMetadata": {},
     "nuid": "c1a77e30-f45f-4023-8180-112b1bb5b5d3",
     "inputWidgets": {},
     "title": ""
    },
    "colab": {
     "base_uri": "https://localhost:8080/"
    },
    "id": "D_G6-hSgVmSo",
    "outputId": "3221b03f-8bff-4230-9116-ba35a6cc5d15"
   },
   "outputs": [
    {
     "output_type": "stream",
     "name": "stdout",
     "text": [
      "average run_time for selectExpr_sql_ageband_casewhen with 9000000 rows is 0.3618640422821045\n",
      "average run_time for spark_sql_ageband_casewhen with 9000000 rows is 0.36986422538757324\n",
      "average run_time for udf_ageband with 9000000 rows is 0.27346434593200686\n",
      "average run_time for pandas_udf_cut_ageband with 9000000 rows is 0.27601003646850586\n",
      "average run_time for chain_join_long_ageband with 9000000 rows is 4.865589380264282\n",
      "average run_time for chain_join_between_ageband with 9000000 rows is 1.3739787101745606\n",
      "average run_time for selectExpr_sql_ageband_casewhen with 9000000 rows is 0.17872200012207032\n",
      "average run_time for spark_sql_ageband_casewhen with 9000000 rows is 0.19225549697875977\n",
      "average run_time for udf_ageband with 9000000 rows is 0.18843164443969726\n",
      "average run_time for pandas_udf_cut_ageband with 9000000 rows is 0.1556694507598877\n",
      "average run_time for chain_join_long_ageband with 9000000 rows is 9.888206958770752\n",
      "average run_time for chain_join_between_ageband with 9000000 rows is 12.830813264846801\n",
      "average run_time for selectExpr_sql_ageband_casewhen with 9000000 rows is 0.16099171638488768\n",
      "average run_time for spark_sql_ageband_casewhen with 9000000 rows is 0.1732262134552002\n",
      "average run_time for udf_ageband with 9000000 rows is 0.15817766189575194\n",
      "average run_time for pandas_udf_cut_ageband with 9000000 rows is 0.1299384593963623\n",
      "average run_time for chain_join_long_ageband with 9000000 rows is 27.161384487152098\n",
      "average run_time for chain_join_between_ageband with 9000000 rows is 611.4546688079834\n"
     ]
    }
   ],
   "execution_count": 16
  },
  {
   "cell_type": "markdown",
   "source": [
    "## Results\n",
    "\n",
    "We averaged the timings over 5 runs, for 1, 10 and 30 age columns. Below we can\n",
    "see the results, either as a table or as a plot (**note the log scale!**)."
   ],
   "metadata": {
    "application/vnd.databricks.v1+cell": {
     "showTitle": false,
     "cellMetadata": {},
     "nuid": "32a8eab9-427d-40f9-9bf5-809926017cef",
     "inputWidgets": {},
     "title": ""
    },
    "id": "Ww-ROJW4VmSo"
   }
  },
  {
   "cell_type": "code",
   "source": [
    "df_results"
   ],
   "metadata": {
    "application/vnd.databricks.v1+cell": {
     "showTitle": false,
     "cellMetadata": {},
     "nuid": "e6d66f69-9365-442b-9ba1-0a640993f739",
     "inputWidgets": {},
     "title": ""
    },
    "colab": {
     "base_uri": "https://localhost:8080/",
     "height": 614
    },
    "id": "fkjuDrDmVmSo",
    "outputId": "290ef78a-b5a4-4b6f-a030-e13d4d75d800"
   },
   "outputs": [
    {
     "output_type": "execute_result",
     "data": {
      "text/plain": [
       "                              name  num_cols  num_rows  average_run_time\n",
       "0  selectExpr_sql_ageband_casewhen         1   9000000          0.361864\n",
       "1       spark_sql_ageband_casewhen         1   9000000          0.369864\n",
       "2                      udf_ageband         1   9000000          0.273464\n",
       "3           pandas_udf_cut_ageband         1   9000000          0.276010\n",
       "4          chain_join_long_ageband         1   9000000          4.865589\n",
       "5       chain_join_between_ageband         1   9000000          1.373979\n",
       "0  selectExpr_sql_ageband_casewhen        10   9000000          0.178722\n",
       "1       spark_sql_ageband_casewhen        10   9000000          0.192255\n",
       "2                      udf_ageband        10   9000000          0.188432\n",
       "3           pandas_udf_cut_ageband        10   9000000          0.155669\n",
       "4          chain_join_long_ageband        10   9000000          9.888207\n",
       "5       chain_join_between_ageband        10   9000000         12.830813\n",
       "0  selectExpr_sql_ageband_casewhen        30   9000000          0.160992\n",
       "1       spark_sql_ageband_casewhen        30   9000000          0.173226\n",
       "2                      udf_ageband        30   9000000          0.158178\n",
       "3           pandas_udf_cut_ageband        30   9000000          0.129938\n",
       "4          chain_join_long_ageband        30   9000000         27.161384\n",
       "5       chain_join_between_ageband        30   9000000        611.454669"
      ],
      "text/html": [
       "\n",
       "  <div id=\"df-be39b218-6796-49db-9341-1ade85bbb550\">\n",
       "    <div class=\"colab-df-container\">\n",
       "      <div>\n",
       "<style scoped>\n",
       "    .dataframe tbody tr th:only-of-type {\n",
       "        vertical-align: middle;\n",
       "    }\n",
       "\n",
       "    .dataframe tbody tr th {\n",
       "        vertical-align: top;\n",
       "    }\n",
       "\n",
       "    .dataframe thead th {\n",
       "        text-align: right;\n",
       "    }\n",
       "</style>\n",
       "<table border=\"1\" class=\"dataframe\">\n",
       "  <thead>\n",
       "    <tr style=\"text-align: right;\">\n",
       "      <th></th>\n",
       "      <th>name</th>\n",
       "      <th>num_cols</th>\n",
       "      <th>num_rows</th>\n",
       "      <th>average_run_time</th>\n",
       "    </tr>\n",
       "  </thead>\n",
       "  <tbody>\n",
       "    <tr>\n",
       "      <th>0</th>\n",
       "      <td>selectExpr_sql_ageband_casewhen</td>\n",
       "      <td>1</td>\n",
       "      <td>9000000</td>\n",
       "      <td>0.361864</td>\n",
       "    </tr>\n",
       "    <tr>\n",
       "      <th>1</th>\n",
       "      <td>spark_sql_ageband_casewhen</td>\n",
       "      <td>1</td>\n",
       "      <td>9000000</td>\n",
       "      <td>0.369864</td>\n",
       "    </tr>\n",
       "    <tr>\n",
       "      <th>2</th>\n",
       "      <td>udf_ageband</td>\n",
       "      <td>1</td>\n",
       "      <td>9000000</td>\n",
       "      <td>0.273464</td>\n",
       "    </tr>\n",
       "    <tr>\n",
       "      <th>3</th>\n",
       "      <td>pandas_udf_cut_ageband</td>\n",
       "      <td>1</td>\n",
       "      <td>9000000</td>\n",
       "      <td>0.276010</td>\n",
       "    </tr>\n",
       "    <tr>\n",
       "      <th>4</th>\n",
       "      <td>chain_join_long_ageband</td>\n",
       "      <td>1</td>\n",
       "      <td>9000000</td>\n",
       "      <td>4.865589</td>\n",
       "    </tr>\n",
       "    <tr>\n",
       "      <th>5</th>\n",
       "      <td>chain_join_between_ageband</td>\n",
       "      <td>1</td>\n",
       "      <td>9000000</td>\n",
       "      <td>1.373979</td>\n",
       "    </tr>\n",
       "    <tr>\n",
       "      <th>0</th>\n",
       "      <td>selectExpr_sql_ageband_casewhen</td>\n",
       "      <td>10</td>\n",
       "      <td>9000000</td>\n",
       "      <td>0.178722</td>\n",
       "    </tr>\n",
       "    <tr>\n",
       "      <th>1</th>\n",
       "      <td>spark_sql_ageband_casewhen</td>\n",
       "      <td>10</td>\n",
       "      <td>9000000</td>\n",
       "      <td>0.192255</td>\n",
       "    </tr>\n",
       "    <tr>\n",
       "      <th>2</th>\n",
       "      <td>udf_ageband</td>\n",
       "      <td>10</td>\n",
       "      <td>9000000</td>\n",
       "      <td>0.188432</td>\n",
       "    </tr>\n",
       "    <tr>\n",
       "      <th>3</th>\n",
       "      <td>pandas_udf_cut_ageband</td>\n",
       "      <td>10</td>\n",
       "      <td>9000000</td>\n",
       "      <td>0.155669</td>\n",
       "    </tr>\n",
       "    <tr>\n",
       "      <th>4</th>\n",
       "      <td>chain_join_long_ageband</td>\n",
       "      <td>10</td>\n",
       "      <td>9000000</td>\n",
       "      <td>9.888207</td>\n",
       "    </tr>\n",
       "    <tr>\n",
       "      <th>5</th>\n",
       "      <td>chain_join_between_ageband</td>\n",
       "      <td>10</td>\n",
       "      <td>9000000</td>\n",
       "      <td>12.830813</td>\n",
       "    </tr>\n",
       "    <tr>\n",
       "      <th>0</th>\n",
       "      <td>selectExpr_sql_ageband_casewhen</td>\n",
       "      <td>30</td>\n",
       "      <td>9000000</td>\n",
       "      <td>0.160992</td>\n",
       "    </tr>\n",
       "    <tr>\n",
       "      <th>1</th>\n",
       "      <td>spark_sql_ageband_casewhen</td>\n",
       "      <td>30</td>\n",
       "      <td>9000000</td>\n",
       "      <td>0.173226</td>\n",
       "    </tr>\n",
       "    <tr>\n",
       "      <th>2</th>\n",
       "      <td>udf_ageband</td>\n",
       "      <td>30</td>\n",
       "      <td>9000000</td>\n",
       "      <td>0.158178</td>\n",
       "    </tr>\n",
       "    <tr>\n",
       "      <th>3</th>\n",
       "      <td>pandas_udf_cut_ageband</td>\n",
       "      <td>30</td>\n",
       "      <td>9000000</td>\n",
       "      <td>0.129938</td>\n",
       "    </tr>\n",
       "    <tr>\n",
       "      <th>4</th>\n",
       "      <td>chain_join_long_ageband</td>\n",
       "      <td>30</td>\n",
       "      <td>9000000</td>\n",
       "      <td>27.161384</td>\n",
       "    </tr>\n",
       "    <tr>\n",
       "      <th>5</th>\n",
       "      <td>chain_join_between_ageband</td>\n",
       "      <td>30</td>\n",
       "      <td>9000000</td>\n",
       "      <td>611.454669</td>\n",
       "    </tr>\n",
       "  </tbody>\n",
       "</table>\n",
       "</div>\n",
       "      <button class=\"colab-df-convert\" onclick=\"convertToInteractive('df-be39b218-6796-49db-9341-1ade85bbb550')\"\n",
       "              title=\"Convert this dataframe to an interactive table.\"\n",
       "              style=\"display:none;\">\n",
       "        \n",
       "  <svg xmlns=\"http://www.w3.org/2000/svg\" height=\"24px\"viewBox=\"0 0 24 24\"\n",
       "       width=\"24px\">\n",
       "    <path d=\"M0 0h24v24H0V0z\" fill=\"none\"/>\n",
       "    <path d=\"M18.56 5.44l.94 2.06.94-2.06 2.06-.94-2.06-.94-.94-2.06-.94 2.06-2.06.94zm-11 1L8.5 8.5l.94-2.06 2.06-.94-2.06-.94L8.5 2.5l-.94 2.06-2.06.94zm10 10l.94 2.06.94-2.06 2.06-.94-2.06-.94-.94-2.06-.94 2.06-2.06.94z\"/><path d=\"M17.41 7.96l-1.37-1.37c-.4-.4-.92-.59-1.43-.59-.52 0-1.04.2-1.43.59L10.3 9.45l-7.72 7.72c-.78.78-.78 2.05 0 2.83L4 21.41c.39.39.9.59 1.41.59.51 0 1.02-.2 1.41-.59l7.78-7.78 2.81-2.81c.8-.78.8-2.07 0-2.86zM5.41 20L4 18.59l7.72-7.72 1.47 1.35L5.41 20z\"/>\n",
       "  </svg>\n",
       "      </button>\n",
       "      \n",
       "  <style>\n",
       "    .colab-df-container {\n",
       "      display:flex;\n",
       "      flex-wrap:wrap;\n",
       "      gap: 12px;\n",
       "    }\n",
       "\n",
       "    .colab-df-convert {\n",
       "      background-color: #E8F0FE;\n",
       "      border: none;\n",
       "      border-radius: 50%;\n",
       "      cursor: pointer;\n",
       "      display: none;\n",
       "      fill: #1967D2;\n",
       "      height: 32px;\n",
       "      padding: 0 0 0 0;\n",
       "      width: 32px;\n",
       "    }\n",
       "\n",
       "    .colab-df-convert:hover {\n",
       "      background-color: #E2EBFA;\n",
       "      box-shadow: 0px 1px 2px rgba(60, 64, 67, 0.3), 0px 1px 3px 1px rgba(60, 64, 67, 0.15);\n",
       "      fill: #174EA6;\n",
       "    }\n",
       "\n",
       "    [theme=dark] .colab-df-convert {\n",
       "      background-color: #3B4455;\n",
       "      fill: #D2E3FC;\n",
       "    }\n",
       "\n",
       "    [theme=dark] .colab-df-convert:hover {\n",
       "      background-color: #434B5C;\n",
       "      box-shadow: 0px 1px 3px 1px rgba(0, 0, 0, 0.15);\n",
       "      filter: drop-shadow(0px 1px 2px rgba(0, 0, 0, 0.3));\n",
       "      fill: #FFFFFF;\n",
       "    }\n",
       "  </style>\n",
       "\n",
       "      <script>\n",
       "        const buttonEl =\n",
       "          document.querySelector('#df-be39b218-6796-49db-9341-1ade85bbb550 button.colab-df-convert');\n",
       "        buttonEl.style.display =\n",
       "          google.colab.kernel.accessAllowed ? 'block' : 'none';\n",
       "\n",
       "        async function convertToInteractive(key) {\n",
       "          const element = document.querySelector('#df-be39b218-6796-49db-9341-1ade85bbb550');\n",
       "          const dataTable =\n",
       "            await google.colab.kernel.invokeFunction('convertToInteractive',\n",
       "                                                     [key], {});\n",
       "          if (!dataTable) return;\n",
       "\n",
       "          const docLinkHtml = 'Like what you see? Visit the ' +\n",
       "            '<a target=\"_blank\" href=https://colab.research.google.com/notebooks/data_table.ipynb>data table notebook</a>'\n",
       "            + ' to learn more about interactive tables.';\n",
       "          element.innerHTML = '';\n",
       "          dataTable['output_type'] = 'display_data';\n",
       "          await google.colab.output.renderOutput(dataTable, element);\n",
       "          const docLink = document.createElement('div');\n",
       "          docLink.innerHTML = docLinkHtml;\n",
       "          element.appendChild(docLink);\n",
       "        }\n",
       "      </script>\n",
       "    </div>\n",
       "  </div>\n",
       "  "
      ]
     },
     "metadata": {},
     "execution_count": 17
    }
   ],
   "execution_count": 17
  },
  {
   "cell_type": "markdown",
   "source": [
    "The **key findings**:\n",
    "\n",
    "- for the more efficient approaches, 1, 10 or 30 columns didn't make much\n",
    "  difference\n",
    "- For 30 columns, the equi-JOIN was 100 times slower than the fastest, whilst\n",
    "  the non-equi-JOIN was a **1000 times slower!**\n",
    "- UDFs, PandasUDFs, SQL/pyspark all did similarly well, but **PandasUDF** was\n",
    "  the fastest."
   ],
   "metadata": {
    "collapsed": false
   }
  },
  {
   "cell_type": "code",
   "source": [
    "(df_results\n",
    " .set_index(['num_cols','name'])\n",
    " .unstack()['average_run_time']\n",
    " .plot.bar(figsize=(11,5),\n",
    "             logy=True,\n",
    "             rot=0,\n",
    "             title='comparison of run-time of ageband methods against 10 million rows (less is good: faster)',\n",
    "             ylabel='Log(average time, secs)',\n",
    "             xlabel='Number of columns agebanded'\n",
    "            )\n",
    " );"
   ],
   "metadata": {
    "application/vnd.databricks.v1+cell": {
     "showTitle": false,
     "cellMetadata": {},
     "nuid": "de73e7fd-72d2-4727-9813-45550bcdc55e",
     "inputWidgets": {},
     "title": ""
    },
    "colab": {
     "base_uri": "https://localhost:8080/",
     "height": 350
    },
    "id": "JCei6lpwVmSo",
    "outputId": "a39d0285-acb5-4ae9-b1d2-1a7d4f6e143a"
   },
   "outputs": [
    {
     "output_type": "display_data",
     "data": {
      "text/plain": [
       "<Figure size 792x360 with 1 Axes>"
      ],
      "image/png": "[encoded data removed]"
     },
     "metadata": {
      "needs_background": "light"
     }
    }
   ],
   "execution_count": 18
  }
 ],
 "metadata": {
  "application/vnd.databricks.v1+notebook": {
   "notebookName": "databricks best practice - AGEBAND",
   "dashboards": [],
   "notebookMetadata": {
    "pythonIndentUnit": 2
   },
   "language": "python",
   "widgets": {},
   "notebookOrigID": 3229532975232308
  },
  "colab": {
   "provenance": [],
   "toc_visible": true
  },
  "language_info": {
   "name": "python"
  },
  "kernelspec": {
   "name": "python3",
   "display_name": "Python 3"
  },
  "gpuClass": "standard"
 },
 "nbformat": 4,
 "nbformat_minor": 0
}
